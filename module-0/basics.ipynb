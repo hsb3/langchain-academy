{
 "cells": [
  {
   "cell_type": "markdown",
   "id": "660ce795-9307-4c2c-98a1-beabcb36c740",
   "metadata": {},
   "source": [
    "[![Open in Colab](https://colab.research.google.com/assets/colab-badge.svg)](https://colab.research.google.com/github/langchain-ai/langchain-academy/blob/main/module-0/basics.ipynb) [![Open in LangChain Academy](https://cdn.prod.website-files.com/65b8cd72835ceeacd4449a53/66e9eba12c7b7688aa3dbb5e_LCA-badge-green.svg)](https://academy.langchain.com/courses/take/intro-to-langgraph/lessons/56295530-getting-set-up-video-guide)"
   ]
  },
  {
   "cell_type": "markdown",
   "id": "ef597741-3211-4ecc-92f7-f58023ee237e",
   "metadata": {},
   "source": [
    "# LangChain Academy\n",
    "\n",
    "Welcome to LangChain Academy! \n",
    "\n",
    "## Context\n",
    "\n",
    "At LangChain, we aim to make it easy to build LLM applications. One type of LLM application you can build is an agent. There’s a lot of excitement around building agents because they can automate a wide range of tasks that were previously impossible. \n",
    "\n",
    "In practice though, it is incredibly difficult to build systems that reliably execute on these tasks. As we’ve worked with our users to put agents into production, we’ve learned that more control is often necessary. You might need an agent to always call a specific tool first or use different prompts based on its state. \n",
    "\n",
    "To tackle this problem, we’ve built [LangGraph](https://langchain-ai.github.io/langgraph/) — a framework for building agent and multi-agent applications. Separate from the LangChain package, LangGraph’s core design philosophy is to help developers add better precision and control into agent workflows, suitable for the complexity of real-world systems.\n",
    "\n",
    "## Course Structure\n",
    "\n",
    "The course is structured as a set of modules, with each module focused on a particular theme related to LangGraph. You will see a folder for each module, which contains a series of notebooks. A video will accompany each notebook to help walk through the concepts, but the notebooks are also stand-alone, meaning that they contain explanations and can be viewed independently of the videos. Each module folder also contains a `studio` folder, which contains a set of graphs that can be loaded into [LangGraph Studio](https://github.com/langchain-ai/langgraph-studio), our IDE for building LangGraph applications.\n",
    "\n",
    "## Setup\n",
    "\n",
    "Before you begin, please follow the instructions in the `README` to create an environment and install dependencies.\n",
    "\n",
    "## Chat models\n",
    "\n",
    "In this course, we'll be using [Chat Models](https://python.langchain.com/v0.2/docs/concepts/#chat-models), which do a few things take a sequence of messages as inputs and return chat messages as outputs. LangChain does not host any Chat Models, rather we rely on third party integrations. [Here](https://python.langchain.com/v0.2/docs/integrations/chat/) is a list of 3rd party chat model integrations within LangChain! By default, the course will use [ChatOpenAI](https://python.langchain.com/v0.2/docs/integrations/chat/openai/) because it is both popular and performant. As noted, please ensure that you have an `OPENAI_API_KEY`.\n",
    "\n",
    "Let's check that your `OPENAI_API_KEY` is set and, if not, you will be asked to enter it."
   ]
  },
  {
   "cell_type": "code",
   "execution_count": 2,
   "id": "0f9a52c8",
   "metadata": {},
   "outputs": [],
   "source": [
    "%%capture --no-stderr\n",
    "%pip install --quiet -U langchain_openai langchain_core langchain_community tavily-python"
   ]
  },
  {
   "cell_type": "code",
   "execution_count": 1,
   "id": "c2a15227",
   "metadata": {},
   "outputs": [],
   "source": [
    "import os, getpass\n",
    "\n",
    "def _set_env(var: str):\n",
    "    if not os.environ.get(var):\n",
    "        os.environ[var] = getpass.getpass(f\"{var}: \")\n",
    "\n",
    "_set_env(\"OPENAI_API_KEY\")"
   ]
  },
  {
   "cell_type": "markdown",
   "id": "a326f35b",
   "metadata": {},
   "source": [
    "[Here](https://python.langchain.com/v0.2/docs/how_to/#chat-models) is a useful how-to for all the things that you can do with chat models, but we'll show a few highlights below. If you've run `pip install -r requirements.txt` as noted in the README, then you've installed the `langchain-openai` package. With this, we can instantiate our `ChatOpenAI` model object. If you are signing up for the API for the first time, you should receive [free credits](https://community.openai.com/t/understanding-api-limits-and-free-tier/498517) that can be applied to any of the models. You can see pricing for various models [here](https://openai.com/api/pricing/). The notebooks will default to `gpt-4o` because it's a good balance of quality, price, and speed [see more here](https://help.openai.com/en/articles/7102672-how-can-i-access-gpt-4-gpt-4-turbo-gpt-4o-and-gpt-4o-mini), but you can also opt for the lower priced `gpt-3.5` series models. \n",
    "\n",
    "There are [a few standard parameters](https://python.langchain.com/v0.2/docs/concepts/#chat-models) that we can set with chat models. Two of the most common are:\n",
    "\n",
    "* `model`: the name of the model\n",
    "* `temperature`: the sampling temperature\n",
    "\n",
    "`Temperature` controls the randomness or creativity of the model's output where low temperature (close to 0) is more deterministic and focused outputs. This is good for tasks requiring accuracy or factual responses. High temperature (close to 1) is good for creative tasks or generating varied responses. "
   ]
  },
  {
   "cell_type": "code",
   "execution_count": null,
   "id": "e19a54d3",
   "metadata": {},
   "outputs": [],
   "source": [
    "from langchain_openai import ChatOpenAI\n",
    "gpt4o_chat = ChatOpenAI(model=\"gpt-4o-mini\", temperature=0)\n",
    "gpt35_chat = ChatOpenAI(model=\"o3-mini\") # thinking models do not take temperature as an argument"
   ]
  },
  {
   "cell_type": "markdown",
   "id": "28450d1b",
   "metadata": {},
   "source": [
    "Chat models in LangChain have a number of [default methods](https://python.langchain.com/v0.2/docs/concepts/#runnable-interface). For the most part, we'll be using:\n",
    "\n",
    "* `stream`: stream back chunks of the response\n",
    "* `invoke`: call the chain on an input\n",
    "\n",
    "And, as mentioned, chat models take [messages](https://python.langchain.com/v0.2/docs/concepts/#messages) as input. Messages have a role (that describes who is saying the message) and a content property. We'll be talking a lot more about this later, but here let's just show the basics."
   ]
  },
  {
   "cell_type": "code",
   "execution_count": 3,
   "id": "b1280e1b",
   "metadata": {},
   "outputs": [
    {
     "data": {
      "text/plain": [
       "AIMessage(content=\"The Earth has one moon primarily due to a combination of historical events and gravitational dynamics. Here are some key points explaining why Earth has a moon and why it has only one:\\n\\n1. **Giant Impact Hypothesis**: The most widely accepted theory for the formation of the Moon is the Giant Impact Hypothesis. According to this theory, a Mars-sized body, often referred to as Theia, collided with the early Earth around 4.5 billion years ago. The debris from this impact eventually coalesced to form the Moon.\\n\\n2. **Gravitational Capture**: While other celestial bodies can be captured by a planet's gravity, the conditions for a stable capture are quite specific. The Earth’s gravity is strong enough to hold onto a moon, but the dynamics of capturing additional moons would be complex and less likely to result in stable orbits.\\n\\n3. **Orbital Stability**: The gravitational interactions between a planet and its moons can lead to complex dynamics. Having multiple large moons can destabilize their orbits over time, leading to collisions or ejections from orbit. Earth’s single moon has a stable orbit, which contributes to the stability of the planet's axial tilt and climate.\\n\\n4. **Size and Mass**: The Moon is relatively large compared to Earth, which is unusual among the terrestrial planets. This size relationship contributes to the gravitational dynamics that allow the Moon to remain in a stable orbit.\\n\\n5. **Historical Context**: Other planets in the solar system have multiple moons, but the conditions and history of their formation differ. For example, gas giants like Jupiter and Saturn have many moons due to their larger gravitational fields and the presence of a protoplanetary disk that allowed for the capture and formation of multiple moons.\\n\\nIn summary, Earth has one moon due to a unique combination of historical events, gravitational dynamics, and the stability of its orbit. While it is possible for planets to have multiple moons, the specific conditions that led to the formation of the Moon and the dynamics of Earth's system have resulted in just one.\", additional_kwargs={'refusal': None}, response_metadata={'token_usage': {'completion_tokens': 413, 'prompt_tokens': 21, 'total_tokens': 434, 'completion_tokens_details': {'accepted_prediction_tokens': 0, 'audio_tokens': 0, 'reasoning_tokens': 0, 'rejected_prediction_tokens': 0}, 'prompt_tokens_details': {'audio_tokens': 0, 'cached_tokens': 0}}, 'model_name': 'gpt-4o-mini-2024-07-18', 'system_fingerprint': 'fp_00428b782a', 'finish_reason': 'stop', 'logprobs': None}, id='run-a5b08784-7626-403d-9f36-2718d381985b-0', usage_metadata={'input_tokens': 21, 'output_tokens': 413, 'total_tokens': 434, 'input_token_details': {'audio': 0, 'cache_read': 0}, 'output_token_details': {'audio': 0, 'reasoning': 0}})"
      ]
     },
     "execution_count": 3,
     "metadata": {},
     "output_type": "execute_result"
    }
   ],
   "source": [
    "from langchain_core.messages import HumanMessage\n",
    "\n",
    "# Create a message\n",
    "msg = HumanMessage(content=\"Why does the earth have a moon and only one moon?\", name=\"Henry\")\n",
    "\n",
    "# Message list\n",
    "messages = [msg]\n",
    "\n",
    "# Invoke the model with a list of messages \n",
    "gpt4o_chat.invoke(messages)"
   ]
  },
  {
   "cell_type": "markdown",
   "id": "cac73e4c",
   "metadata": {},
   "source": [
    "We get an `AIMessage` response. Also, note that we can just invoke a chat model with a string. When a string is passed in as input, it is converted to a `HumanMessage` and then passed to the underlying model.\n"
   ]
  },
  {
   "cell_type": "code",
   "execution_count": 4,
   "id": "f27c6c9a",
   "metadata": {},
   "outputs": [
    {
     "name": "stdout",
     "output_type": "stream",
     "text": [
      "==================================\u001b[1m Ai Message \u001b[0m==================================\n",
      "\n",
      "The Earth has one moon primarily due to a combination of historical events and gravitational dynamics. Here are some key points explaining why Earth has a single moon:\n",
      "\n",
      "1. **Giant Impact Hypothesis**: The most widely accepted theory for the formation of the Moon is the Giant Impact Hypothesis. It suggests that a Mars-sized body, often referred to as Theia, collided with the early Earth about 4.5 billion years ago. The debris from this impact eventually coalesced to form the Moon.\n",
      "\n",
      "2. **Gravitational Capture**: While other celestial bodies can be captured by a planet's gravity, the conditions for a stable capture are quite specific. The Earth’s gravity is strong enough to hold onto a moon, but the dynamics of capturing additional moons would be complex and less likely to result in stable orbits.\n",
      "\n",
      "3. **Orbital Stability**: The gravitational interactions between a planet and its moons can lead to complex dynamics. Having multiple moons can result in gravitational perturbations that may destabilize their orbits. Earth’s single moon has a stable orbit, which is beneficial for maintaining the planet's axial tilt and climate stability.\n",
      "\n",
      "4. **Size and Mass**: The Moon is relatively large compared to Earth, which is unusual for a planet with a single moon. This large size contributes to its gravitational influence on Earth, affecting tides and stabilizing the planet's axial tilt.\n",
      "\n",
      "5. **Historical Context**: Throughout the solar system's history, many moons have been lost or collided with their parent planets. Earth may have had other smaller moons in the past, but they could have either been ejected from orbit or collided with the Earth or the Moon.\n",
      "\n",
      "In summary, Earth has one moon due to a combination of its formation history, gravitational dynamics, and the stability of its current orbital configuration.\n"
     ]
    }
   ],
   "source": [
    "result = gpt4o_chat.invoke(messages)\n",
    "result.pretty_print()"
   ]
  },
  {
   "cell_type": "code",
   "execution_count": 8,
   "id": "fdc2f0ca",
   "metadata": {},
   "outputs": [
    {
     "name": "stdout",
     "output_type": "stream",
     "text": [
      "==================================\u001b[1m Ai Message \u001b[0m==================================\n",
      "\n",
      "The most widely accepted explanation for why Earth has a single, large moon comes from what’s known as the Giant Impact Hypothesis. In the early history of our solar system, about 4.5 billion years ago, Earth is thought to have collided with a Mars-sized body (often called Theia). This colossal impact ejected a massive amount of debris into Earth's orbit. Over time, this debris coalesced and formed what we now know as the Moon.\n",
      "\n",
      "Here are some reasons why Earth ended up with only one moon:\n",
      "\n",
      "1. Origin from a Giant Impact: The conditions of the impact produced a single, large disk of debris around Earth. This disk, under its own gravity, eventually formed one dominant satellite rather than multiple moons. In contrast, other planets with multiple moons (like Jupiter or Saturn) usually captured many objects or had more complex formation scenarios.\n",
      "\n",
      "2. Orbital Dynamics and Stability: Once the Moon formed, its orbit became stable due to the gravitational balance between the Earth and the Sun. Any additional sizable debris in Earth’s orbit would likely have either fallen back to Earth, been ejected from orbit by gravitational perturbations, or merged with the Moon. As a result, Earth ended up with just one large, stable satellite.\n",
      "\n",
      "3. Gravitational Environment: The specific distances and masses involved in the Earth-Moon system allow for a stable single-satellite configuration. In our solar system, certain gravitational conditions (like those of the Earth-Sun system) tend to favor the retention of one large moon rather than many small ones. Other planets—especially gas giants—have conditions that allow them to hold onto many moons at once.\n",
      "\n",
      "So, to sum up, Earth has one moon largely because the particular impact that formed it naturally resulted in one major body orbiting Earth, and the gravitational dynamics since then have maintained that single, stable satellite.\n"
     ]
    }
   ],
   "source": [
    "result = gpt35_chat.invoke(messages)\n",
    "result.pretty_print()"
   ]
  },
  {
   "cell_type": "markdown",
   "id": "582c0e5a",
   "metadata": {},
   "source": [
    "The interface is consistent across all chat models and models are typically initialized once at the start up each notebooks. \n",
    "\n",
    "So, you can easily switch between models without changing the downstream code if you have strong preference for another provider.\n"
   ]
  },
  {
   "cell_type": "markdown",
   "id": "3ad0069a",
   "metadata": {},
   "source": [
    "## Search Tools\n",
    "\n",
    "You'll also see [Tavily](https://tavily.com/) in the README, which is a search engine optimized for LLMs and RAG, aimed at efficient, quick, and persistent search results. As mentioned, it's easy to sign up and offers a generous free tier. Some lessons (in Module 4) will use Tavily by default but, of course, other search tools can be used if you want to modify the code for yourself."
   ]
  },
  {
   "cell_type": "code",
   "execution_count": null,
   "id": "091dff13",
   "metadata": {},
   "outputs": [],
   "source": [
    "_set_env(\"TAVILY_API_KEY\")"
   ]
  },
  {
   "cell_type": "code",
   "execution_count": null,
   "id": "52d69da9",
   "metadata": {},
   "outputs": [],
   "source": [
    "from langchain_community.tools.tavily_search import TavilySearchResults\n",
    "tavily_search = TavilySearchResults(max_results=3)\n",
    "search_docs = tavily_search.invoke(\"What is LangGraph?\")"
   ]
  },
  {
   "cell_type": "code",
   "execution_count": null,
   "id": "d06f87e6",
   "metadata": {},
   "outputs": [
    {
     "data": {
      "text/plain": [
       "[{'url': 'https://www.datacamp.com/tutorial/langgraph-tutorial',\n",
       "  'content': 'LangGraph is a library within the LangChain ecosystem designed to tackle these challenges head-on. LangGraph provides a framework for defining, coordinating, and executing multiple LLM agents (or chains) in a structured manner.'},\n",
       " {'url': 'https://langchain-ai.github.io/langgraph/',\n",
       "  'content': 'Overview LangGraph is a library for building stateful, multi-actor applications with LLMs, used to create agent and multi-agent workflows. Compared to other LLM frameworks, it offers these core benefits: cycles, controllability, and persistence. LangGraph allows you to define flows that involve cycles, essential for most agentic architectures, differentiating it from DAG-based solutions. As a ...'},\n",
       " {'url': 'https://www.youtube.com/watch?v=nmDFSVRnr4Q',\n",
       "  'content': 'LangGraph is an extension of LangChain enabling Multi-Agent conversation and cyclic chains. This video explains the basics of LangGraph and codesLangChain in...'}]"
      ]
     },
     "execution_count": 7,
     "metadata": {},
     "output_type": "execute_result"
    }
   ],
   "source": [
    "search_docs"
   ]
  },
  {
   "cell_type": "code",
   "execution_count": null,
   "id": "bafd7d5d",
   "metadata": {},
   "outputs": [],
   "source": []
  }
 ],
 "metadata": {
  "kernelspec": {
   "display_name": "lc-academy-env",
   "language": "python",
   "name": "python3"
  },
  "language_info": {
   "codemirror_mode": {
    "name": "ipython",
    "version": 3
   },
   "file_extension": ".py",
   "mimetype": "text/x-python",
   "name": "python",
   "nbconvert_exporter": "python",
   "pygments_lexer": "ipython3",
   "version": "3.12.7"
  }
 },
 "nbformat": 4,
 "nbformat_minor": 5
}
